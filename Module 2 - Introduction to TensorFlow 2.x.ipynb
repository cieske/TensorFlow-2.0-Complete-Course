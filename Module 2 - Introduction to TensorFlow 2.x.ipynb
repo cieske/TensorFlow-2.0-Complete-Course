{
 "cells": [
  {
   "cell_type": "markdown",
   "metadata": {},
   "source": [
    "# Module 2 : Introduction to TensorFlow 2.x\n",
    "\n",
    "## In this module:\n",
    "  - TF install & setup\n",
    "  - Representation Tensors\n",
    "  - Tensor shape and rank\n",
    "  - Types of tensors"
   ]
  },
  {
   "cell_type": "markdown",
   "metadata": {},
   "source": [
    "## Install TensorFlow\n",
    "\n",
    "### Using Anaconda\n",
    "\n",
    "본 동영상은 google colab을 통해 진행되고 있고, 설치 자체는 pip를 통해 끝내지만 저는 Anaconda를 사용하고 있기 때문에 Anaconda를 통한 설치법을 정리합니다.\n",
    "\n",
    "*동영상에서는 google colab 사용에 대한 introduction까지 제공합니다.\n",
    "  \n",
    "  https://www.anaconda.com/distribution/\n",
    "  \n",
    "위 사이트에서 본인 OS와 python 버전에 맞게 설치파일을 다운받아서 설치를 진행합니다. 자세한 설치 방법은 구글에 \"아나콘다 설치\"라고 검색하면 잘 설명해놓은 블로그들 참고하시면 됩니다.\n",
    "  \n",
    "### Anaconda navigator\n",
    "\n",
    "아나콘다 설치 후 Anaconda navigator에서 가상환경 관리, 라이브러리 관리 등을 진행할 수 있습니다. 아래 사진은 Anaconda navigator의 메인 화면입니다. 여기서 왼쪽의 Environments 탭을 클릭하여 들어갑니다."
   ]
  },
  {
   "cell_type": "markdown",
   "metadata": {},
   "source": [
    "![python image](image/anaconda-main.png)"
   ]
  },
  {
   "cell_type": "markdown",
   "metadata": {},
   "source": [
    "### Environment\n",
    "\n",
    "아래 사진은 선택된 환경에 설치되어 있는 라이브러리들을 보여줍니다. Search Packages를 통해 라이브러리 검색이 가능하고, Installed 항목을 Not installed, Updatable 등으로 바꿔 anaconda cloud에 등록된 모든 라이브러리, 로컬에 설치되지 않은 라이브러리, 업데이트가 필요한 라이브버리 등으로 나누어 검색할 수 있습니다.\n",
    "\n",
    "최초로 anaconda 설치 시 tensorflow는 설치되어있지 않기 때문에, Installed를 Not installed로 바꾸고 tensorflow를 검색하여 설치합니다. 설치되지 않은 라이브러리는 Name 옆의 체크표시가 풀려있는데 설치하고 싶은 라이브러리를 체크하고 우측 하단에 뜬 Apply를 클릭하면 설치가 가능합니다. 혹시 특정 버전을 사용하고 싶으면 체크표시 클릭 시 Mark for specific version installation을 통해 원하는 버전 설치가 가능합니다."
   ]
  },
  {
   "cell_type": "markdown",
   "metadata": {},
   "source": [
    "![python image](image/anaconda-env.png)"
   ]
  },
  {
   "cell_type": "markdown",
   "metadata": {},
   "source": [
    "### How Tensorflow Works?\n",
    "\n",
    "Tensorflow는 크게 graph와 session, 두 가지 요소로 구성되어 있습니다. \n",
    "\n",
    "  - Graph는 어떠한 연산이 진행될 것인지 저장해두는 곳입니다. 변수와 연산이 garph 단계에서 정의되지만 어떠한 것도 실제로 수행되지 않습니다. \n",
    "  \n",
    "  - Session은 graph를 실제로 실행하는 곳입니다. 이 단계에서 메모리를 할당받아 graph에서 정의했던 것들을 실제로 수행합니다.\n",
    "  \n",
    "   \n",
    "다만 tensorflow 2.x 버전으로 넘어오면서 Session()이 삭제된 것 같습니다. 대신 코드 실행 시 바로 연산이 실행되도록 바뀐 것 같습니다. 예시로, 다음과 같이 a, b를 선언하고 a+b를 수행하기 위해서는 tf.Session()을 열고 session 내에서 a+b를 실행해야했다면, 지금은 바로 a+b를 실행해도 결과값인 3이 numpy 속성에 저장됩니다."
   ]
  },
  {
   "cell_type": "code",
   "execution_count": 61,
   "metadata": {},
   "outputs": [
    {
     "data": {
      "text/plain": [
       "<tf.Tensor: shape=(), dtype=int32, numpy=3>"
      ]
     },
     "execution_count": 61,
     "metadata": {},
     "output_type": "execute_result"
    }
   ],
   "source": [
    "a = tf.Variable(1, tf.int16)\n",
    "b = tf.Variable(2, tf.int16)\n",
    "a+b"
   ]
  },
  {
   "cell_type": "markdown",
   "metadata": {},
   "source": [
    "### Importing TensorFlow\n",
    "\n",
    "Tensorflow를 import하고, tf.\\__version__을 통해 현재 설치된 버전 확인이 가능합니다."
   ]
  },
  {
   "cell_type": "code",
   "execution_count": 6,
   "metadata": {},
   "outputs": [
    {
     "name": "stdout",
     "output_type": "stream",
     "text": [
      "2.1.0\n"
     ]
    }
   ],
   "source": [
    "import tensorflow as tf\n",
    "print(tf.__version__)"
   ]
  },
  {
   "cell_type": "markdown",
   "metadata": {},
   "source": [
    "### Tensors\n",
    "\n",
    "Tensorflow에서는 \"tensor\"라는 개념을 활용합니다. 다음은 tensorflow 공식 홈페이지에 소개된 설명입니다.\n",
    "\n",
    "https://www.tensorflow.org/guide/tensor\n",
    "\n",
    "Tensorflow를 이용하지 않고 NN을 구현하려면 input, weight 등을 numpy array 등의 벡터로 표현해야 하는데, tensorflow에서는 이것들을 텐서로 일반화시켜 사용합니다. 각 텐서는 data type(자료형)과 shape(형태) 정보를 가지고 있습니다.\n",
    "\n",
    "  - Data type : float32, int32 등 텐서 내 원소들의 자료형\n",
    "  - Shape : 텐서의 dimension\n",
    "  \n",
    "### Creating Tensors\n",
    "\n",
    "각각 다른 자료형을 가진 텐서를 만들어봅시다."
   ]
  },
  {
   "cell_type": "code",
   "execution_count": 23,
   "metadata": {},
   "outputs": [],
   "source": [
    "string = tf.Variable(\"String\", tf.string)\n",
    "num = tf.Variable(123, tf.int16)\n",
    "flo = tf.Variable(3.142, tf.float64)\n",
    "arr = tf.Variable([1, 2, 3], tf.int16)"
   ]
  },
  {
   "cell_type": "markdown",
   "metadata": {},
   "source": [
    "이 단계에서 num을 출력하면 숫자 123이 나와야 할 것 같지만 실행 결과는 숫자가 아닌 tf.Variable을 출력합니다. Tensorflow 1.x에서는 이 코드를 graph에 넣고 session에서 실행해야 예상했던 123이 출력되었지만, 2.x에서는 즉시 실행 모드가 기본 모드이어서 실행 결과가 numpy 속성에 나옵니다."
   ]
  },
  {
   "cell_type": "code",
   "execution_count": 26,
   "metadata": {
    "scrolled": true
   },
   "outputs": [
    {
     "name": "stdout",
     "output_type": "stream",
     "text": [
      "<tf.Variable 'Variable:0' shape=() dtype=int32, numpy=123>\n"
     ]
    }
   ],
   "source": [
    "num = tf.Variable(123, tf.int16)\n",
    "\n",
    "print(num)"
   ]
  },
  {
   "cell_type": "markdown",
   "metadata": {},
   "source": [
    "따라서 다음과 같이 출력 시 결과를 바로 출력할 수 있습니다."
   ]
  },
  {
   "cell_type": "code",
   "execution_count": 33,
   "metadata": {},
   "outputs": [
    {
     "name": "stdout",
     "output_type": "stream",
     "text": [
      "String\n",
      "123\n",
      "3.142\n",
      "[1 2 3]\n"
     ]
    }
   ],
   "source": [
    "print(string.numpy().decode())\n",
    "print(num.numpy())\n",
    "print(flo.numpy())\n",
    "print(arr.numpy())"
   ]
  },
  {
   "cell_type": "markdown",
   "metadata": {},
   "source": [
    "### Rank/Degree of Tensor\n",
    "\n",
    "Rank는 해당 텐서 dimension의 수입니다. 일반적으로 수학에서 사용하는 rank와는 다릅니다. 단순 dimension의 수이기 때문에 scalar의 rank는 0, vector의 rank는 1, 2차원 matrix의 rank는 2... 이런 식입니다. 다음의 경우 numpy 속성에 arr 텐서의 rank인 0이 출력됩니다."
   ]
  },
  {
   "cell_type": "code",
   "execution_count": 35,
   "metadata": {},
   "outputs": [
    {
     "data": {
      "text/plain": [
       "<tf.Tensor: shape=(), dtype=int32, numpy=1>"
      ]
     },
     "execution_count": 35,
     "metadata": {},
     "output_type": "execute_result"
    }
   ],
   "source": [
    "tf.rank(arr)"
   ]
  },
  {
   "cell_type": "markdown",
   "metadata": {},
   "source": [
    "다음 텐서의 경우 리스트 내 리스트가 또 있는 경우이기 때문에 matrix로 생각할 수 있습니다. Rank는 2입니다."
   ]
  },
  {
   "cell_type": "code",
   "execution_count": 41,
   "metadata": {},
   "outputs": [
    {
     "data": {
      "text/plain": [
       "<tf.Tensor: shape=(), dtype=int32, numpy=2>"
      ]
     },
     "execution_count": 41,
     "metadata": {},
     "output_type": "execute_result"
    }
   ],
   "source": [
    "mat = tf.Variable([[1, 2, 3], [4, 5, 6]], tf.int16)\n",
    "tf.rank(mat)"
   ]
  },
  {
   "cell_type": "markdown",
   "metadata": {},
   "source": [
    "### Shape of Tensor\n",
    "\n",
    "Shape은 해당 텐서의 dimension입니다. 다음과 같이 텐서의 shape을 확인할 수 있습니다. Vector의 경우 shape이 [3] 또는 [1, 3]이 아닙니다. Rank가 1이므로 dimension의 수 또한 1이고, tensorflow의 경우 다음과 같이 (3,)로 vector의 shape을 표현합니다."
   ]
  },
  {
   "cell_type": "code",
   "execution_count": 42,
   "metadata": {},
   "outputs": [
    {
     "name": "stdout",
     "output_type": "stream",
     "text": [
      "(2, 3)\n",
      "(3,)\n"
     ]
    }
   ],
   "source": [
    "print(mat.shape)\n",
    "print(arr.shape)"
   ]
  },
  {
   "cell_type": "markdown",
   "metadata": {},
   "source": [
    "### tf.reshape()\n",
    "\n",
    "#### Example 1\n",
    "텐서를 reshape을 통해 shape을 바꿀 수 있습니다. 기존 [2, 3] shape이었던 mat 텐서를 [3, 2]로 바꾸어보겠습니다."
   ]
  },
  {
   "cell_type": "code",
   "execution_count": 54,
   "metadata": {},
   "outputs": [
    {
     "name": "stdout",
     "output_type": "stream",
     "text": [
      "<tf.Variable 'Variable:0' shape=(2, 3) dtype=int32, numpy=\n",
      "array([[1, 2, 3],\n",
      "       [4, 5, 6]], dtype=int32)>\n"
     ]
    }
   ],
   "source": [
    "print(mat)"
   ]
  },
  {
   "cell_type": "code",
   "execution_count": 55,
   "metadata": {},
   "outputs": [
    {
     "name": "stdout",
     "output_type": "stream",
     "text": [
      "tf.Tensor(\n",
      "[[1 2]\n",
      " [3 4]\n",
      " [5 6]], shape=(3, 2), dtype=int32)\n"
     ]
    }
   ],
   "source": [
    "new_mat = tf.reshape(mat, [3,2])\n",
    "print(new_mat)"
   ]
  },
  {
   "cell_type": "markdown",
   "metadata": {},
   "source": [
    "#### Example 2\n",
    "\n",
    "tf.zeros를 통해 0으로 채워진 텐서를 만들고, reshape을 수행해보겠습니다."
   ]
  },
  {
   "cell_type": "code",
   "execution_count": 79,
   "metadata": {},
   "outputs": [
    {
     "name": "stdout",
     "output_type": "stream",
     "text": [
      "tf.Tensor(\n",
      "[[[0. 0. 0.]\n",
      "  [0. 0. 0.]\n",
      "  [0. 0. 0.]]\n",
      "\n",
      " [[0. 0. 0.]\n",
      "  [0. 0. 0.]\n",
      "  [0. 0. 0.]]\n",
      "\n",
      " [[0. 0. 0.]\n",
      "  [0. 0. 0.]\n",
      "  [0. 0. 0.]]], shape=(3, 3, 3), dtype=float32)\n"
     ]
    }
   ],
   "source": [
    "zero = tf.zeros([3, 3, 3])\n",
    "print(zero)"
   ]
  },
  {
   "cell_type": "markdown",
   "metadata": {},
   "source": [
    "이제 위 zero 텐서를 다양한 차원으로 변환시켜보겠습니다."
   ]
  },
  {
   "cell_type": "code",
   "execution_count": 84,
   "metadata": {},
   "outputs": [
    {
     "name": "stdout",
     "output_type": "stream",
     "text": [
      "tf.Tensor(\n",
      "[0. 0. 0. 0. 0. 0. 0. 0. 0. 0. 0. 0. 0. 0. 0. 0. 0. 0. 0. 0. 0. 0. 0. 0.\n",
      " 0. 0. 0.], shape=(27,), dtype=float32)\n"
     ]
    }
   ],
   "source": [
    "flatten_zero_1 = tf.reshape(zero, [27])\n",
    "print(flatten_zero_1)"
   ]
  },
  {
   "cell_type": "code",
   "execution_count": 85,
   "metadata": {},
   "outputs": [
    {
     "name": "stdout",
     "output_type": "stream",
     "text": [
      "tf.Tensor(\n",
      "[[[0.]\n",
      "  [0.]\n",
      "  [0.]\n",
      "  [0.]\n",
      "  [0.]\n",
      "  [0.]\n",
      "  [0.]\n",
      "  [0.]\n",
      "  [0.]\n",
      "  [0.]\n",
      "  [0.]\n",
      "  [0.]\n",
      "  [0.]\n",
      "  [0.]\n",
      "  [0.]\n",
      "  [0.]\n",
      "  [0.]\n",
      "  [0.]\n",
      "  [0.]\n",
      "  [0.]\n",
      "  [0.]\n",
      "  [0.]\n",
      "  [0.]\n",
      "  [0.]\n",
      "  [0.]\n",
      "  [0.]\n",
      "  [0.]]], shape=(1, 27, 1), dtype=float32)\n"
     ]
    }
   ],
   "source": [
    "flatten_zero_2 = tf.reshape(zero, [1, 27, 1])\n",
    "print(flatten_zero_2)"
   ]
  },
  {
   "cell_type": "markdown",
   "metadata": {},
   "source": [
    "### tf.squeeze()\n",
    "\n",
    "tf.squeeze는 텐서에서 크기가 1인 차원을 제거합니다. 예시로 위 flatten_zero_2의 차원은 [1, 27, 1]인데 여기에 tf.squeeze를 적용시켜보겠습니다. 적용 후 shape이 [27,]인 것을 확인할 수 있습니다."
   ]
  },
  {
   "cell_type": "code",
   "execution_count": 86,
   "metadata": {},
   "outputs": [
    {
     "name": "stdout",
     "output_type": "stream",
     "text": [
      "tf.Tensor(\n",
      "[0. 0. 0. 0. 0. 0. 0. 0. 0. 0. 0. 0. 0. 0. 0. 0. 0. 0. 0. 0. 0. 0. 0. 0.\n",
      " 0. 0. 0.], shape=(27,), dtype=float32)\n"
     ]
    }
   ],
   "source": [
    "squeeze_1 = tf.squeeze(flatten_zero_2)\n",
    "print(squeeze_1)"
   ]
  },
  {
   "cell_type": "markdown",
   "metadata": {},
   "source": [
    "모든 크기가 1인 차원을 제거하는 대신, 원하는 차원만을 제거할 수 있습니다. flatten_zero_2의 첫 번째 크기가 1인 차원을 제거해보겠습니다. 제거 후 shape은 [27,1]이 됩니다."
   ]
  },
  {
   "cell_type": "code",
   "execution_count": 87,
   "metadata": {},
   "outputs": [
    {
     "name": "stdout",
     "output_type": "stream",
     "text": [
      "tf.Tensor(\n",
      "[[0.]\n",
      " [0.]\n",
      " [0.]\n",
      " [0.]\n",
      " [0.]\n",
      " [0.]\n",
      " [0.]\n",
      " [0.]\n",
      " [0.]\n",
      " [0.]\n",
      " [0.]\n",
      " [0.]\n",
      " [0.]\n",
      " [0.]\n",
      " [0.]\n",
      " [0.]\n",
      " [0.]\n",
      " [0.]\n",
      " [0.]\n",
      " [0.]\n",
      " [0.]\n",
      " [0.]\n",
      " [0.]\n",
      " [0.]\n",
      " [0.]\n",
      " [0.]\n",
      " [0.]], shape=(27, 1), dtype=float32)\n"
     ]
    }
   ],
   "source": [
    "squeeze_2 = tf.squeeze(flatten_zero_2, [0])\n",
    "print(squeeze_2)"
   ]
  },
  {
   "cell_type": "markdown",
   "metadata": {},
   "source": [
    "### tf.expand_dims()\n",
    "\n",
    "tf.expand_dims는 squeeze와 반대로 크기가 1인 차원을 추가합니다. 어느 차원에 추가할 지 axis를 꼭 지정해야 합니다."
   ]
  },
  {
   "cell_type": "code",
   "execution_count": 99,
   "metadata": {},
   "outputs": [
    {
     "name": "stdout",
     "output_type": "stream",
     "text": [
      "tf.Tensor(\n",
      "[[[[0. 0. 0.]]\n",
      "\n",
      "  [[0. 0. 0.]]\n",
      "\n",
      "  [[0. 0. 0.]]]\n",
      "\n",
      "\n",
      " [[[0. 0. 0.]]\n",
      "\n",
      "  [[0. 0. 0.]]\n",
      "\n",
      "  [[0. 0. 0.]]]\n",
      "\n",
      "\n",
      " [[[0. 0. 0.]]\n",
      "\n",
      "  [[0. 0. 0.]]\n",
      "\n",
      "  [[0. 0. 0.]]]], shape=(3, 3, 1, 3), dtype=float32)\n"
     ]
    }
   ],
   "source": [
    "new_zero = tf.zeros([3,3,3])\n",
    "expand_1 = tf.expand_dims(new_zero, 2)\n",
    "print(expand_1)"
   ]
  },
  {
   "cell_type": "markdown",
   "metadata": {},
   "source": [
    "### Types of Tensors\n",
    "\n",
    "Tensorflow에는 다양한 타입의 텐서가 있습니다. 공식 문서에는 다음과 같은 4종류의 텐서를 소개하고 있습니다.\n",
    "  - tf.Variable\n",
    "  - tf.constant\n",
    "  - tf.placeholder\n",
    "  - tf.SparseTensor\n",
    "  \n",
    "tf.Variable을 제외하고 나머지 텐서는 실행 후 값을 변경할 수 없습니다. 다시 실행 시에는 랜덤 값을 생성하는 경우 등에 따라 다른 값을 가질 수 있습니다. 다음 공식 문서에서 더 자세한 정보를 확인할 수 있습니다.\n",
    "\n",
    "https://www.tensorflow.org/guide/tensor"
   ]
  }
 ],
 "metadata": {
  "kernelspec": {
   "display_name": "Python 3",
   "language": "python",
   "name": "python3"
  },
  "language_info": {
   "codemirror_mode": {
    "name": "ipython",
    "version": 3
   },
   "file_extension": ".py",
   "mimetype": "text/x-python",
   "name": "python",
   "nbconvert_exporter": "python",
   "pygments_lexer": "ipython3",
   "version": "3.7.6"
  }
 },
 "nbformat": 4,
 "nbformat_minor": 4
}
