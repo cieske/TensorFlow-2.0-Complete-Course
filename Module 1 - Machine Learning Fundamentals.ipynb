{
 "cells": [
  {
   "cell_type": "markdown",
   "metadata": {},
   "source": [
    "기본적인 python 프로그래밍을 알고 있는 사람들 중 AI나 ML/DL beginner, 또는 약간의 이해를 하고 있는 사람들을 대상으로 하는 course입니다.\n",
    "\n",
    "https://www.youtube.com/watch?v=tPYj3fFJGjk\n",
    "https://www.freecodecamp.org/news/massive-tensorflow-2-0-free-course/?fbclid=IwAR3x45wT9nWOMJhfYj8yoW2pmO7jVToyNAeDvjPvDSGgOzEMrgSK59w5WOE"
   ]
  },
  {
   "cell_type": "markdown",
   "metadata": {},
   "source": [
    " ## Supervised Learning\n",
    " \n",
    "  - Feature를 통해 Label을 예측\n",
    "  - 각 data에 대응되는 expected output이 존재 => Label\n",
    "\n",
    "## Unsupervised Learning\n",
    "  - 오직 feature만 존재, 각 data마다  label이나 expected output은 없음!\n",
    "  - 목적에 따라(clustering, embedding...) 결과가 달라짐\n",
    "  \n",
    "## Reinforcement Learning\n",
    "  - 강화학습!\n",
    "  - 아무런 데이터도 주어지지 않고, agent와 environment가 존재\n",
    "  - 주어진 환경에서 agent가 움직이면서 수집되는 정보가 data(위치, 움직임, 보상...)\n",
    "  - "
   ]
  }
 ],
 "metadata": {
  "kernelspec": {
   "display_name": "Python 3",
   "language": "python",
   "name": "python3"
  },
  "language_info": {
   "codemirror_mode": {
    "name": "ipython",
    "version": 3
   },
   "file_extension": ".py",
   "mimetype": "text/x-python",
   "name": "python",
   "nbconvert_exporter": "python",
   "pygments_lexer": "ipython3",
   "version": "3.7.6"
  }
 },
 "nbformat": 4,
 "nbformat_minor": 4
}
