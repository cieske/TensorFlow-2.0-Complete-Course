{
 "cells": [
  {
   "cell_type": "markdown",
   "metadata": {},
   "source": [
    "# Module 4 : Neural Networks with TensorFlow\n",
    "\n",
    "이번 module에서는 TF를 이용해서 NN을 만들어보겠습니다. 앞서 module 3에서 estimator.DNNClassifier를 이용해 NN으로 classification 문제를 해결하긴 했는데, 이번에는 조금 더 자세한 부분까지 직접 조절할 수 있는 neural network입니다. \n",
    "\n",
    "이번 module은 다음 문서를 기반으로 만들어졌습니다.\n",
    "\n",
    "https://www.tensorflow.org/tutorials/keras/classification"
   ]
  },
  {
   "cell_type": "code",
   "execution_count": 1,
   "metadata": {},
   "outputs": [],
   "source": [
    "import tensorflow as tf\n",
    "from tensorflow import keras\n",
    "\n",
    "import numpy as np\n",
    "import matplotlib.pyplot as plt"
   ]
  },
  {
   "cell_type": "markdown",
   "metadata": {},
   "source": [
    "## Intro to NN\n",
    "\n",
    "본 영상에서는 Keras 및 NN에 대해 꽤 많이 설명을 하고 있습니다. 각 neuron들이 어떻게 연결되어 있는지부터 layers, weight/bias, activation function, backpropagation, loss function, gradient descent, oprimizer까지 간단하게 짚어보고 구현으로 들어갑니다. 해당 내용을 다 싣기에는 현재 시간이 부족해서... 스킵하도록 하겠습니다. 추후 여견이 된다면 추가하도록 하겠습니다. [원작자의 colab notebook 링크](https://colab.research.google.com/drive/1m2cg3D1x3j5vrFc-Cu0gMvc48gWyCOuG#forceEdit=true&sandboxMode=true&scrollTo=-HJV4JF789aC)를 걸어둡니다."
   ]
  },
  {
   "cell_type": "markdown",
   "metadata": {},
   "source": [
    "## Dataset\n",
    "\n",
    "이번 module에서는 Fashion-MNIST dataset을 사용합니다. 기존 MNIST가 흑백으로 된 숫자(0~9) 손글씨 데이터셋이라면, Fashion-MNIST는 10종류의 옷 이미지로 구성된 데이터셋입니다. Neural network를 이용해서 사진을 입력받아 이 옷이 어떤 종류인지 분류하는 문제를 해결하고자 합니다.\n",
    "\n",
    "Training set에 포함된 이미지는 총 60000개이고, 각 이미지는 28x28 픽셀입니다. Test/validation set에는 10000개의 이미지가 있습니다.\n",
    "\n",
    "텐서플로에서 이 데이터셋을 제공합니다. "
   ]
  },
  {
   "cell_type": "code",
   "execution_count": 2,
   "metadata": {},
   "outputs": [],
   "source": [
    "dataset = keras.datasets.fashion_mnist\n",
    "\n",
    "(img_train, label_train), (img_test, label_test) = dataset.load_data()"
   ]
  },
  {
   "cell_type": "markdown",
   "metadata": {},
   "source": [
    "Training set에 총 60000장의 이미지가 28x28 사이즈로 존재함을 알 수 있습니다. 각 픽셀값은 0~255 사이의 값이고, RGB 대신 흑백 이미지임을 확인할 수 있습니다."
   ]
  },
  {
   "cell_type": "code",
   "execution_count": 3,
   "metadata": {},
   "outputs": [
    {
     "name": "stdout",
     "output_type": "stream",
     "text": [
      "(60000, 28, 28)\n",
      "[  0   0   0   0   0   0   0   0   0   0   0   0   6   0 102 204 176 134\n",
      " 144 123  23   0   0   0   0  12  10   0]\n"
     ]
    }
   ],
   "source": [
    "print(img_train.shape)\n",
    "print(img_train[0, 5])"
   ]
  },
  {
   "cell_type": "markdown",
   "metadata": {},
   "source": [
    "Label은 0~9 사이의 숫자로 이루어져 있습니다. 각 숫자가 한 class(옷 종류)를 의미한다고 보면 됩니다. 각 숫자가 어떤 옷을 의미하는지 보기 위해 class 이름을 정의합시다."
   ]
  },
  {
   "cell_type": "code",
   "execution_count": 4,
   "metadata": {},
   "outputs": [
    {
     "name": "stdout",
     "output_type": "stream",
     "text": [
      "[9 0 0 3 0]\n"
     ]
    }
   ],
   "source": [
    "print(label_train[:5])\n",
    "\n",
    "class_names = ['T-shirt/top', 'Trouser', 'Pullover', 'Dress', 'Coat', 'Sandal', 'Shirt', 'Sneaker', 'Bag', 'Ankle boot']"
   ]
  },
  {
   "cell_type": "markdown",
   "metadata": {},
   "source": [
    "마지막으로 실제 이미지가 어떻게 생겼는지 확인해보도록 합시다. 각 픽셀이 가지는 값에 따라 어떤 색을 가지는지 colorbar로 확인할 수 있습니다."
   ]
  },
  {
   "cell_type": "code",
   "execution_count": 5,
   "metadata": {},
   "outputs": [
    {
     "data": {
      "image/png": "[encoded data removed]",
      "text/plain": [
       "<Figure size 432x288 with 2 Axes>"
      ]
     },
     "metadata": {
      "needs_background": "light"
     },
     "output_type": "display_data"
    }
   ],
   "source": [
    "plt.imshow(img_train[0])\n",
    "plt.colorbar()\n",
    "plt.show()"
   ]
  },
  {
   "cell_type": "markdown",
   "metadata": {},
   "source": [
    "## Data preprocessing\n",
    "\n",
    "먼저 데이터 전처리를 진행합시다. 0-255의 값을 그대로 neural network에 집어넣어도 되지만 그 전에 모든 픽셀값을 0-1로 normalize해줍시다. Training set과 test set에 똑같이 적용합니다.\n",
    "\n",
    "왜 이런 작업을 해 주는것이 중요한가...라고 물으신다면 간단하게 학습이 더 빨라지고, 더 괜찮게 converge할 수 있게 해 준다라고 이야기 할 것 같습니다. 지금이야 feature가 한 종류니까 그렇다쳐도 각 input 값들이 다른 scale을 가지게 된다면, 그리고 normalization을 하지 않는다면 특정 feature가 dominant하게 작용할 수도 있기 때문입니다.\n",
    "\n",
    "영상에서는 weight, bias는 random하게 0-1사이로 정해지는데 input value와 mismatch가 일어나면 학습 단계에서 업데이트 시 문제가 생길 수 있다고 합니다.\n",
    "\n",
    "당장 바로 아래 코드를 돌리고 NN 학습 후 결과를 보는 것과, 돌리지 않고 보는 것 사이에 4-5%의 차이가 생기는 것을 확인할 수 있습니다."
   ]
  },
  {
   "cell_type": "code",
   "execution_count": 6,
   "metadata": {},
   "outputs": [],
   "source": [
    "img_train = img_train/255.0\n",
    "img_test = img_test/255.0"
   ]
  },
  {
   "cell_type": "markdown",
   "metadata": {},
   "source": [
    "## Building NN model\n",
    "\n",
    "이제 NN 모델을 만들어봅시다. Keras 덕분에 매우 쉽게, 코드 몇 줄 만으로 neural network를 구현할 수 있습니다.\n",
    "\n",
    "Input layer, output layer, 그리고 hidden layer 1개로 구성된 neural network를 만들어봅시다. 이 모델은 fully connected network(FCN)입니다.\n",
    "\n",
    "  - Input layer에서는 28x28 모양의 이미지를 1x784개로 펼칩니다. 그래서 각 픽셀이 neuron 1개에 대응될 수 있도록 해 줍니다. Input layer의 neuron 개수는 784개입니다.\n",
    "  \n",
    "  - Hidden layer의 neuron 개수는 128개입니다. Dense layer이기 때문에 이전 layer의 neuron들이 현재 layer의 neuron들과 모두 연결되어 있습니다. Activation function으로는 ReLU를 사용했습니다.\n",
    "  \n",
    "  - Output layer의 neuron 개수는 10개입니다. 마찬가지로 dense layer이고, 이제 neuron들은 10개의 class와 일대일 대응이 됩니다. Activation function으로 Softmax를 사용했기 때문에 neuron의 값이 해당 class일 확률이라고 생각할 수 있습니다."
   ]
  },
  {
   "cell_type": "code",
   "execution_count": 7,
   "metadata": {},
   "outputs": [],
   "source": [
    "model = keras.Sequential([\n",
    "    keras.layers.Flatten(input_shape = (28, 28)),  # input layer (1)\n",
    "    keras.layers.Dense(128, activation = 'relu'),  # hidden layer (2)\n",
    "    keras.layers.Dense(10, activation = 'softmax') # output layer (3)\n",
    "])"
   ]
  },
  {
   "cell_type": "markdown",
   "metadata": {},
   "source": [
    "## Compile model\n",
    "\n",
    "마지막으로 loss function과 optimizer, metric을 지정하면서 model을 compile해줍니다. "
   ]
  },
  {
   "cell_type": "code",
   "execution_count": 8,
   "metadata": {},
   "outputs": [],
   "source": [
    "model.compile(optimizer = 'adam', loss = 'sparse_categorical_crossentropy', metrics = ['accuracy'])"
   ]
  },
  {
   "cell_type": "markdown",
   "metadata": {},
   "source": [
    "## Training model\n",
    "\n",
    "이제 model을 학습시켜봅시다. model.fit(data, label, epochs)으로 간단하게 모델을 학습시킬 수 있습니다. 매 epoch, 매 순간마다 학습 경과와 loss, accuracy를 출력해줍니다."
   ]
  },
  {
   "cell_type": "code",
   "execution_count": 9,
   "metadata": {},
   "outputs": [
    {
     "name": "stdout",
     "output_type": "stream",
     "text": [
      "Train on 60000 samples\n",
      "Epoch 1/10\n",
      "60000/60000 [==============================] - 3s 46us/sample - loss: 0.5033 - accuracy: 0.8227\n",
      "Epoch 2/10\n",
      "60000/60000 [==============================] - 3s 42us/sample - loss: 0.3764 - accuracy: 0.8645\n",
      "Epoch 3/10\n",
      "60000/60000 [==============================] - 3s 42us/sample - loss: 0.3382 - accuracy: 0.8773\n",
      "Epoch 4/10\n",
      "60000/60000 [==============================] - 3s 42us/sample - loss: 0.3142 - accuracy: 0.8842\n",
      "Epoch 5/10\n",
      "60000/60000 [==============================] - 2s 41us/sample - loss: 0.2972 - accuracy: 0.8902\n",
      "Epoch 6/10\n",
      "60000/60000 [==============================] - 3s 42us/sample - loss: 0.2819 - accuracy: 0.8965\n",
      "Epoch 7/10\n",
      "60000/60000 [==============================] - 3s 42us/sample - loss: 0.2714 - accuracy: 0.8993\n",
      "Epoch 8/10\n",
      "60000/60000 [==============================] - 3s 42us/sample - loss: 0.2596 - accuracy: 0.9029\n",
      "Epoch 9/10\n",
      "60000/60000 [==============================] - 3s 42us/sample - loss: 0.2516 - accuracy: 0.9062\n",
      "Epoch 10/10\n",
      "60000/60000 [==============================] - 3s 42us/sample - loss: 0.2419 - accuracy: 0.9107\n"
     ]
    },
    {
     "data": {
      "text/plain": [
       "<tensorflow.python.keras.callbacks.History at 0x7f0675771090>"
      ]
     },
     "execution_count": 9,
     "metadata": {},
     "output_type": "execute_result"
    }
   ],
   "source": [
    "model.fit(img_train, label_train, epochs = 10)"
   ]
  },
  {
   "cell_type": "markdown",
   "metadata": {},
   "source": [
    "## Validate model\n",
    "\n",
    "학습시킨 모델이 test set에 대해서 얼마나 정확하게 작동하는지 확인해보도록 하겠습니다. 여기서 verbose라는 parameter가 등장하는데, 위에서 보여준 학습 과정 등을 출력할 지 말 지를 정하는 파라미터입니다. 0일 경우에 아무것도 출력하지 않고, 1일 경우에 위와 같이 progress bar를 보여줍니다."
   ]
  },
  {
   "cell_type": "code",
   "execution_count": 10,
   "metadata": {},
   "outputs": [
    {
     "name": "stdout",
     "output_type": "stream",
     "text": [
      "Test accuracy: 0.8847\n"
     ]
    }
   ],
   "source": [
    "loss, accuracy = model.evaluate(img_test, label_test, verbose=0) \n",
    "\n",
    "print('Test accuracy:', accuracy)"
   ]
  },
  {
   "cell_type": "markdown",
   "metadata": {},
   "source": [
    "약 88%의 정확도를 보여주네요. Training 과정에서의 정확도보다 test 과정에서의 정확도가 더 낮은데 이런 현상을 overfitting 현상이라고 합니다. 최악의 경우에는, 모델이 training set만 잘 맞추고 test set은 거의 맞추지 못하는 상황도 발생합니다. "
   ]
  },
  {
   "cell_type": "markdown",
   "metadata": {},
   "source": [
    "## Making prediction model\n",
    "\n",
    "이제 test set에 있는 이미지를 예측하는 모델을 만들어봅시다. 0~1000 사이의 번호를 입력하면 test set에서 입력한 숫자에 해당하는 index의 이미지를 출력하면서 모델이 예측한 label과 실제 label을 출력합니다.\n",
    "\n",
    "*plt.title, plt.xlabel이 출력되어야 하는데 현재 출력이 되지 않습니다."
   ]
  },
  {
   "cell_type": "code",
   "execution_count": 24,
   "metadata": {},
   "outputs": [
    {
     "name": "stdout",
     "output_type": "stream",
     "text": [
      "Pick a number: 123\n"
     ]
    },
    {
     "data": {
      "image/png": "[encoded data removed]",
      "text/plain": [
       "<Figure size 432x288 with 2 Axes>"
      ]
     },
     "metadata": {
      "needs_background": "light"
     },
     "output_type": "display_data"
    }
   ],
   "source": [
    "COLOR = 'white'\n",
    "plt.rcParams['text.color'] = COLOR\n",
    "plt.rcParams['axes.labelcolor'] = COLOR\n",
    "\n",
    "def predict(model, image, correct_label):\n",
    "    class_names = ['T-shirt/top', 'Trouser', 'Pullover', 'Dress', 'Coat',\n",
    "               'Sandal', 'Shirt', 'Sneaker', 'Bag', 'Ankle boot']\n",
    "    prediction = model.predict(np.array([image]))\n",
    "    predicted_class = class_names[np.argmax(prediction)]\n",
    "\n",
    "    show_image(image, class_names[correct_label], predicted_class)\n",
    "\n",
    "\n",
    "def show_image(img, label, guess):\n",
    "    plt.figure()\n",
    "    plt.imshow(img, cmap=plt.cm.binary)\n",
    "    plt.colorbar()\n",
    "    plt.grid(False)\n",
    "    plt.title(\"Excpected: \" + label)\n",
    "    plt.xlabel(\"Guess: \" + guess)\n",
    "    plt.show()   \n",
    "\n",
    "def get_number():\n",
    "    while True:\n",
    "        num = input(\"Pick a number: \")\n",
    "        if num.isdigit():\n",
    "            num = int(num)\n",
    "            if 0 <= num <= 1000:\n",
    "                return int(num)\n",
    "        else:\n",
    "            print(\"Try again...\")\n",
    "\n",
    "num = get_number()\n",
    "image = img_test[num]\n",
    "label = label_test[num]\n",
    "predict(model, image, label)\n"
   ]
  },
  {
   "cell_type": "markdown",
   "metadata": {},
   "source": [
    "## Conclusion\n",
    "\n",
    "매우 간단하게 neural network을 만들어보고, 이미지를 분류해보는 작업을 했습니다. 다음 module에서는 DNN보다 이미지 처리에 더 적합한 Convolutional neural network(CNN)에 대해 알아보도록 하겠습니다."
   ]
  }
 ],
 "metadata": {
  "kernelspec": {
   "display_name": "Python 3",
   "language": "python",
   "name": "python3"
  },
  "language_info": {
   "codemirror_mode": {
    "name": "ipython",
    "version": 3
   },
   "file_extension": ".py",
   "mimetype": "text/x-python",
   "name": "python",
   "nbconvert_exporter": "python",
   "pygments_lexer": "ipython3",
   "version": "3.7.6"
  }
 },
 "nbformat": 4,
 "nbformat_minor": 4
}
